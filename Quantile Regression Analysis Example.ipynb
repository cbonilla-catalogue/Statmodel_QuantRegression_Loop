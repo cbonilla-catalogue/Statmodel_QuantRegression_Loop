{
 "cells": [
  {
   "cell_type": "code",
   "execution_count": null,
   "metadata": {},
   "outputs": [],
   "source": [
    "from __future__ import print_function\n",
    "import patsy\n",
    "import seaborn as sns\n",
    "import numpy as np\n",
    "import pandas as pd\n",
    "import statsmodels.api as sm\n",
    "import statsmodels.formula.api as smf\n",
    "from statsmodels.regression.quantile_regression import QuantReg\n",
    "\n",
    "import matplotlib.pyplot as plt\n",
    "plt.style.use('seaborn')\n",
    "plt.rcParams['font.size'] = 8\n",
    "pd.set_option('precision', 2)\n",
    "plt.rcParams['lines.linewidth'] = 3\n",
    "plt.rcParams['figure.figsize'] = (35, 20)\n",
    "get_ipython().magic('matplotlib inline')\n",
    "current_palette = sns.color_palette()"
   ]
  },
  {
   "cell_type": "code",
   "execution_count": null,
   "metadata": {},
   "outputs": [],
   "source": [
    "data = pd.read_csv(\"C:\\\\Users\\\\Carlos Bonilla\\\\Google Drive\\\\Investment Research\\\\HF Index Performance.csv\",\n",
    "                   header = 0,index_col = 'Date')\n"
   ]
  },
  {
   "cell_type": "code",
   "execution_count": null,
   "metadata": {},
   "outputs": [],
   "source": [
    "x = data.pct_change(periods = 3).HFRIFOF\n",
    "y = data.pct_change(periods = 3).SPTR\n",
    "\n",
    "plt.hist(x, bins = 50, range=[-.5,.5], alpha=0.5, label='HFRIFOF Avg: '+format(x.mean(), '.2f')+'%')\n",
    "plt.hist(y, bins = 50, range=[-.5,.5], alpha=0.5, label='SPTR Avg: '+format(y.mean(),'.2f')+'%')\n",
    "#plt.hist(z, bins = 50, range=[-.5,.5], alpha=0.5, label='US10yr Avg: '+format(z.mean(),'.2f')+'%')\n",
    "plt.axvline(x.mean(), linestyle='dashed', linewidth=1)\n",
    "plt.axvline(y.mean(), linestyle='dashed', linewidth=1)\n",
    "#plt.axvline(z.mean(), linestyle='dashed', linewidth=1)\n",
    "\n",
    "plt.legend(loc='upper right')\n",
    "plt.show()"
   ]
  },
  {
   "cell_type": "code",
   "execution_count": null,
   "metadata": {},
   "outputs": [],
   "source": [
    "x = data.pct_change(periods = 12).SPTR.dropna()\n",
    "from pandas.tools.plotting import bootstrap_plot\n",
    "bootstrap_plot(x, size=10, samples=500, color='grey')\n"
   ]
  },
  {
   "cell_type": "code",
   "execution_count": null,
   "metadata": {},
   "outputs": [],
   "source": [
    "def quantile_model_params(y_var,x_var,training_data,quantile_list = [.05,.95]):\n",
    "    \n",
    "    #Package dependencies\n",
    "    import numpy as np\n",
    "    import pandas as pd\n",
    "    import statsmodels.api as sm\n",
    "    import statsmodels.formula.api as smf\n",
    "    import patsy #must be version 0.5 or higher\n",
    "    from statsmodels.regression.quantile_regression import QuantReg\n",
    "\n",
    "    #Embed function to fit quantile regression using StatsModel in api formula form\n",
    "    def quantile_model_param(y_var,x_var,training_data,q):\n",
    "        res = smf.quantreg(y_var+' ~ '+x_var, training_data).fit(q=q)\n",
    "        return res.params\n",
    "    \n",
    "    #Create a dataframe of the required quantiles to later merge with the model params\n",
    "    quantile_index = pd.DataFrame(quantile_list, columns = [\"Quantile\"]) \n",
    "    \n",
    "    #Loop through the quantile regression model using the provided quantile index \n",
    "    model_temp = pd.DataFrame([quantile_model_param(y_var,x_var,training_data,q = x) \n",
    "                               for x in quantile_index[\"Quantile\"]])\n",
    "    \n",
    "    #merge the two dtaframes\n",
    "    models = quantile_index.merge(model_temp,right_index=True,left_index=True)\n",
    "    models = models.set_index([\"Quantile\"])\n",
    "    return models\n",
    "\n",
    "def quantile_model_predictions(y_var,x_var,quantile_list,training_data):\n",
    "    \n",
    "    #Package dependencies\n",
    "    import numpy as np\n",
    "    import pandas as pd\n",
    "    import statsmodels.api as sm\n",
    "    import statsmodels.formula.api as smf\n",
    "    import patsy #must be version 0.5 or higher\n",
    "    from statsmodels.regression.quantile_regression import QuantReg\n",
    "\n",
    "    #Embed function to fit quantile regression using StatsModel in api formula form\n",
    "    def quantile_model_prediction(y_var,x_var,training_data,q):\n",
    "        res = smf.quantreg(y_var+' ~ '+x_var, training_data).fit(q=q)\n",
    "        return res.predict()\n",
    "    \n",
    "    #Create a dataframe of the required quantiles to later merge with the model params\n",
    "    quantile_index = pd.DataFrame(quantile_list, columns = [\"Quantile\"]) \n",
    "    \n",
    "    #Loop through the quantile regression model using the provided quantile index \n",
    "    model_temp = pd.DataFrame([quantile_model_prediction(y_var,x_var,training_data,q = x) \n",
    "                               for x in quantile_index[\"Quantile\"]])\n",
    "    \n",
    "    #merge the two dtaframes\n",
    "    models = quantile_index.merge(model_temp,right_index=True,left_index=True)\n",
    "    models = models.set_index([\"Quantile\"]).transpose()\n",
    "    \n",
    "    #Return a pandas dataframe ready to plot each quantile prediction as a separate column\n",
    "    return models"
   ]
  },
  {
   "cell_type": "code",
   "execution_count": null,
   "metadata": {},
   "outputs": [],
   "source": [
    "#quantile_model_params use example\n",
    "quantile_model_params(y_var='HFRIFOF',x_var='USGG10YR+SPTR',quantile_list = np.arange(.05, 1, .15),\n",
    "                                      training_data = data)\n"
   ]
  },
  {
   "cell_type": "code",
   "execution_count": null,
   "metadata": {},
   "outputs": [],
   "source": [
    "#quantile_model_predictions use example\n",
    "temp = quantile_model_predictions(y_var='HFRIFOF',x_var='USGG10YR',\n",
    "                       quantile_list = np.arange(.05, 1, .15),training_data = data)\n",
    "temp.plot()"
   ]
  }
 ],
 "metadata": {
  "kernelspec": {
   "display_name": "Python 3",
   "language": "python",
   "name": "python3"
  },
  "language_info": {
   "codemirror_mode": {
    "name": "ipython",
    "version": 3
   },
   "file_extension": ".py",
   "mimetype": "text/x-python",
   "name": "python",
   "nbconvert_exporter": "python",
   "pygments_lexer": "ipython3",
   "version": "3.6.8"
  }
 },
 "nbformat": 4,
 "nbformat_minor": 2
}
